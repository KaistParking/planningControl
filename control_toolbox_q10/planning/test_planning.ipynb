{
 "cells": [
  {
   "cell_type": "markdown",
   "metadata": {},
   "source": [
    "# Custom Planner"
   ]
  },
  {
   "cell_type": "markdown",
   "metadata": {},
   "source": [
    "## Load Map"
   ]
  },
  {
   "cell_type": "code",
   "execution_count": 1,
   "metadata": {},
   "outputs": [
    {
     "data": {
      "text/plain": [
       "<matplotlib.image.AxesImage at 0x7f61c189e5f8>"
      ]
     },
     "execution_count": 1,
     "metadata": {},
     "output_type": "execute_result"
    },
    {
     "data": {
      "image/png": "[encoded data removed]",
      "text/plain": [
       "<Figure size 432x288 with 1 Axes>"
      ]
     },
     "metadata": {
      "needs_background": "light"
     },
     "output_type": "display_data"
    }
   ],
   "source": [
    "import cv2\n",
    "import numpy as np\n",
    "import time\n",
    "import matplotlib.pyplot as plt\n",
    "\n",
    "map_w, map_h = 240, 120\n",
    "\n",
    "map_img = cv2.imread('maps/map_parking.png', cv2.IMREAD_GRAYSCALE)\n",
    "map_img = cv2.resize(map_img, dsize=(map_w, map_h), interpolation=cv2.INTER_LINEAR)\n",
    "ret, map_img = cv2.threshold(map_img, 127, 255, 0)\n",
    "plt.imshow(map_img, cmap='gray')"
   ]
  },
  {
   "cell_type": "code",
   "execution_count": 2,
   "metadata": {},
   "outputs": [
    {
     "data": {
      "text/plain": [
       "<matplotlib.image.AxesImage at 0x7f61c1032b70>"
      ]
     },
     "execution_count": 2,
     "metadata": {},
     "output_type": "execute_result"
    },
    {
     "data": {
      "image/png": "[encoded data removed]",
      "text/plain": [
       "<Figure size 432x288 with 1 Axes>"
      ]
     },
     "metadata": {
      "needs_background": "light"
     },
     "output_type": "display_data"
    }
   ],
   "source": [
    "img_show = map_img.copy()\n",
    "img_show = cv2.cvtColor(img_show, cv2.COLOR_GRAY2BGR)\n",
    "\n",
    "contours, hierarchy = cv2.findContours(map_img, cv2.RETR_LIST, cv2.CHAIN_APPROX_NONE)\n",
    "cv2.drawContours(img_show, contours, -1, (255, 0, 255), 1)  # blue\n",
    "\n",
    "plt.imshow(img_show)"
   ]
  },
  {
   "cell_type": "code",
   "execution_count": 3,
   "metadata": {},
   "outputs": [
    {
     "name": "stdout",
     "output_type": "stream",
     "text": [
      "start :  [10.0, 10.0, 1.5707963267948966]\n",
      "goal :  [220.0, 20.0, -1.5707963267948966]\n"
     ]
    }
   ],
   "source": [
    "map_obs_x, map_obs_y = [], []\n",
    "N = len(contours)\n",
    "for cont in contours:\n",
    "    map_obs_x = np.append(map_obs_x, cont[:,0,0]).astype(np.float64)\n",
    "    map_obs_y = np.append(map_obs_y, cont[:,0,1]).astype(np.float64)\n",
    "\n",
    "# Set Initial parameters\n",
    "start = [10.0, 10.0, np.deg2rad(90.0)]\n",
    "goal = [220.0, 20.0, np.deg2rad(-90.0)]\n",
    "\n",
    "print(\"start : \", start)\n",
    "print(\"goal : \", goal)"
   ]
  },
  {
   "cell_type": "code",
   "execution_count": 4,
   "metadata": {},
   "outputs": [],
   "source": [
    "import math\n",
    "\n",
    "def plot_arrow(x, y, yaw, length=1.0, width=0.5, fc=\"g\", ec=\"g\"):\n",
    "    if not isinstance(x, float):\n",
    "        for (ix, iy, iyaw) in zip(x, y, yaw):\n",
    "            plot_arrow(ix, iy, iyaw)\n",
    "    else:\n",
    "        plt.arrow(x, y, length * math.cos(yaw), length * math.sin(yaw),\n",
    "                  fc=fc, ec=ec, head_width=width, head_length=width)\n",
    "        plt.plot(x, y)"
   ]
  },
  {
   "cell_type": "code",
   "execution_count": 5,
   "metadata": {},
   "outputs": [],
   "source": [
    "XY_GRID_RESOLUTION = 2.0  # [m]\n",
    "YAW_GRID_RESOLUTION = np.deg2rad(15.0)  # [rad]\n",
    "MOTION_RESOLUTION = 0.1  # [m] path interpolate resolution\n",
    "N_STEER = 20  # number of steer command\n",
    "VR = 1.0  # robot radius\n",
    "\n",
    "SB_COST = 100.0  # switch back penalty cost\n",
    "BACK_COST = 5.0  # backward penalty cost\n",
    "STEER_CHANGE_COST = 5.0  # steer angle change penalty cost\n",
    "STEER_COST = 1.0  # steer angle change penalty cost\n",
    "H_COST = 5.0  # Heuristic cost"
   ]
  },
  {
   "cell_type": "code",
   "execution_count": 6,
   "metadata": {
    "scrolled": false
   },
   "outputs": [
    {
     "name": "stdout",
     "output_type": "stream",
     "text": [
      "path found\n"
     ]
    },
    {
     "data": {
      "image/png": "[encoded data removed]",
      "text/plain": [
       "<Figure size 432x288 with 1 Axes>"
      ]
     },
     "metadata": {
      "needs_background": "light"
     },
     "output_type": "display_data"
    },
    {
     "name": "stdout",
     "output_type": "stream",
     "text": [
      "done!!\n"
     ]
    }
   ],
   "source": [
    "import hybrid_a_star as astar\n",
    "\n",
    "obs_x, obs_y = map_obs_x.tolist(), map_obs_y.tolist()\n",
    "\n",
    "path = astar.hybrid_a_star_planning(\n",
    "    start, goal, obs_x, obs_y, XY_GRID_RESOLUTION, YAW_GRID_RESOLUTION)\n",
    "\n",
    "x = path.x_list\n",
    "y = path.y_list\n",
    "yaw = path.yaw_list\n",
    "\n",
    "# plt.scatter(obs_x, obs_y)\n",
    "plt.imshow(map_img, cmap='gray')\n",
    "\n",
    "plt.plot(x, y, \"-r\", label=\"Hybrid A* path\")\n",
    "plt.grid(True)\n",
    "\n",
    "plot_arrow(start[0], start[1], start[2], length=10.0, width=10, fc=\"r\", ec=\"r\")\n",
    "plot_arrow(goal[0], goal[1], goal[2], length=10.0, width=10, fc=\"b\", ec=\"b\")\n",
    "\n",
    "plt.axis(\"equal\")\n",
    "plt.show()\n",
    "\n",
    "print(\"done!!\")"
   ]
  },
  {
   "cell_type": "code",
   "execution_count": 7,
   "metadata": {},
   "outputs": [],
   "source": [
    "import matplotlib.pyplot as plt"
   ]
  },
  {
   "cell_type": "code",
   "execution_count": 1,
   "metadata": {},
   "outputs": [],
   "source": [
    "from q10Planner import Q10Planner"
   ]
  },
  {
   "cell_type": "code",
   "execution_count": 3,
   "metadata": {},
   "outputs": [],
   "source": [
    "b = Q10Planner()"
   ]
  },
  {
   "cell_type": "code",
   "execution_count": 6,
   "metadata": {},
   "outputs": [],
   "source": [
    "b.load_map(test)"
   ]
  },
  {
   "cell_type": "code",
   "execution_count": 5,
   "metadata": {},
   "outputs": [],
   "source": [
    "test = cv2.imread('maps/map_parking.png', cv2.IMREAD_GRAYSCALE)"
   ]
  },
  {
   "cell_type": "code",
   "execution_count": 7,
   "metadata": {},
   "outputs": [
    {
     "name": "stdout",
     "output_type": "stream",
     "text": [
      "path found\n"
     ]
    }
   ],
   "source": [
    "start = [10.0, 10.0, np.deg2rad(90.0)]\n",
    "goal = [220.0, 20.0, np.deg2rad(-90.0)]\n",
    "\n",
    "path = b.planning(start, goal)"
   ]
  },
  {
   "cell_type": "code",
   "execution_count": 14,
   "metadata": {},
   "outputs": [
    {
     "data": {
      "image/png": "[encoded data removed]",
      "text/plain": [
       "<Figure size 432x288 with 1 Axes>"
      ]
     },
     "metadata": {
      "needs_background": "light"
     },
     "output_type": "display_data"
    }
   ],
   "source": [
    "x = path.x_list\n",
    "y = path.y_list\n",
    "yaw = path.yaw_list\n",
    "\n",
    "plt.imshow(cv2.resize(test, (240,120)), cmap='gray')\n",
    "\n",
    "plt.plot(x, y, \"-r\", label=\"Hybrid A* path\")\n",
    "plt.grid(True)\n",
    "\n",
    "plt.axis(\"equal\")\n",
    "plt.show()"
   ]
  },
  {
   "cell_type": "code",
   "execution_count": 12,
   "metadata": {},
   "outputs": [
    {
     "data": {
      "text/plain": [
       "<hybrid_a_star.Path at 0x7f3ef97fce48>"
      ]
     },
     "execution_count": 12,
     "metadata": {},
     "output_type": "execute_result"
    }
   ],
   "source": [
    "path"
   ]
  },
  {
   "cell_type": "code",
   "execution_count": null,
   "metadata": {},
   "outputs": [],
   "source": []
  }
 ],
 "metadata": {
  "kernelspec": {
   "display_name": "Python 3",
   "language": "python",
   "name": "python3"
  },
  "language_info": {
   "codemirror_mode": {
    "name": "ipython",
    "version": 3
   },
   "file_extension": ".py",
   "mimetype": "text/x-python",
   "name": "python",
   "nbconvert_exporter": "python",
   "pygments_lexer": "ipython3",
   "version": "3.7.0"
  }
 },
 "nbformat": 4,
 "nbformat_minor": 4
}
